{
 "cells": [
  {
   "cell_type": "markdown",
   "metadata": {},
   "source": [
    "# Face Recognition using PCA,LDA,KNN manually implemented\n"
   ]
  },
  {
   "cell_type": "markdown",
   "metadata": {},
   "source": [
    "## Names: \n",
    "#### Zyad Shokry Abozaid 3517\n",
    "#### Mohamed Mohy 3233\n",
    "#### Kareem Ahmed Abdel-Salam 3356"
   ]
  },
  {
   "cell_type": "markdown",
   "metadata": {},
   "source": [
    "#### Problem Statement :\n",
    "We intend to perform face recognition. Face recognition means that for a given image\n",
    "you can tell the subject id. Our database of subject is very simple. It has 40 subjects."
   ]
  },
  {
   "cell_type": "markdown",
   "metadata": {},
   "source": [
    "#### 1-Downloading the dataset\n",
    "\n",
    "We will use ORL dataset:\n",
    "http://www.cl.cam.ac.uk/research/dtg/attarchive/facedatabase.html\n",
    "\n",
    "The data is available at the following link.\n",
    "http://www.cl.cam.ac.uk/Research/DTG/attarchive/pub/data/att_faces.tar.Z\n",
    "\n",
    "The dataset has 10 images per 40 subjects. Every image is a grayscale image of\n",
    "size 92x112."
   ]
  },
  {
   "cell_type": "markdown",
   "metadata": {},
   "source": [
    "#### 2-Generating the Data Matrix and the Label vector\n"
   ]
  }
 ],
 "metadata": {
  "kernelspec": {
   "display_name": "Python 3",
   "language": "python",
   "name": "python3"
  },
  "language_info": {
   "codemirror_mode": {
    "name": "ipython",
    "version": 3
   },
   "file_extension": ".py",
   "mimetype": "text/x-python",
   "name": "python",
   "nbconvert_exporter": "python",
   "pygments_lexer": "ipython3",
   "version": "3.6.4"
  }
 },
 "nbformat": 4,
 "nbformat_minor": 2
}
