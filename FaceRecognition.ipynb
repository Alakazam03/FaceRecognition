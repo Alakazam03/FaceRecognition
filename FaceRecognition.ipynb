{
 "cells": [
  {
   "cell_type": "markdown",
   "metadata": {},
   "source": [
    "# Face Recognition using PCA,LDA,KNN manually implemented\n"
   ]
  },
  {
   "cell_type": "markdown",
   "metadata": {},
   "source": [
    "## Names: \n",
    "#### Zyad Shokry Abozaid 3517\n",
    "#### Mohamed Mohy 3233\n",
    "#### Kareem Ahmed Abdel-Salam 3356"
   ]
  },
  {
   "cell_type": "markdown",
   "metadata": {},
   "source": [
    "#### Problem Statement :\n",
    "\n",
    "We intend to perform face recognition. Face recognition means that for a given image\n",
    "you can tell the subject id. Our database of subject is very simple. It has 40 subjects."
   ]
  },
  {
   "cell_type": "markdown",
   "metadata": {},
   "source": [
    "#### 1-Downloading the dataset\n",
    "\n",
    "We will use ORL dataset:\n",
    "\n",
    "http://www.cl.cam.ac.uk/research/dtg/attarchive/facedatabase.html\n",
    "\n",
    "The data is available at the following link:\n",
    "\n",
    "http://www.cl.cam.ac.uk/Research/DTG/attarchive/pub/data/att_faces.tar.Z\n",
    "\n",
    "The dataset has 10 images per 40 subjects.\n",
    "Every image is a grayscale image of size 92x112."
   ]
  },
  {
   "cell_type": "markdown",
   "metadata": {},
   "source": [
    "intial setup,imports and functions declaration :"
   ]
  },
  {
   "cell_type": "code",
   "execution_count": 8,
   "metadata": {},
   "outputs": [],
   "source": [
    "#initial imports\n",
    "import matplotlib.image as img\n",
    "import numpy as np\n",
    "import math\n",
    "from numpy import linalg as LA\n",
    "import pickle\n",
    "from pathlib import Path\n",
    "from scipy.spatial import distance\n",
    "import operator\n",
    "import matplotlib.pyplot as plt\n",
    "import faceRecognition"
   ]
  },
  {
   "cell_type": "code",
   "execution_count": 9,
   "metadata": {},
   "outputs": [],
   "source": [
    "# =============================================================================\n",
    "# SIMPLE CLASSIFIER ROUTINE\n",
    "# =============================================================================\n",
    "\n",
    "\n",
    "def classify(\n",
    "    data_mat0,\n",
    "    data_mat1,\n",
    "    label_mat0,\n",
    "    label_mat1,\n",
    "    ):\n",
    "\n",
    "    length = data_mat0.shape[0]\n",
    "    map_ = np.zeros((1, length))\n",
    "    label_mat_new = np.zeros((1, length))\n",
    "    accuracy_mat = np.ones((1, length))\n",
    "\n",
    "    for i in range(0, length):\n",
    "        for j in range(0, length):\n",
    "            map_[0, j] = distance.euclidean(data_mat1[i], data_mat0[j])\n",
    "        arg = map_.argmin()\n",
    "        label_mat_new[0, i] = label_mat0[arg]\n",
    "        if label_mat_new[0, i] != label_mat1[i]:\n",
    "            accuracy_mat[0, i] = 0\n",
    "\n",
    "    return 100 * np.sum(accuracy_mat) / np.size(accuracy_mat)\n"
   ]
  },
  {
   "cell_type": "code",
   "execution_count": 10,
   "metadata": {},
   "outputs": [],
   "source": [
    "# =============================================================================\n",
    "# PROJECTION MATRIX ROUTINE\n",
    "# =============================================================================\n",
    "\n",
    "def getProj(data_matrix, alpha, str):\n",
    "\n",
    "    isAlpha = False\n",
    "    number = 0\n",
    "    data_matrix_centered = data_matrix - np.mean(data_matrix, axis=0)\n",
    "    data_matrix_cov = np.cov(data_matrix_centered, rowvar=False)\n",
    "    (eigenValues, eigenVectors) = LA.eigh(data_matrix_cov)\n",
    "    idx = eigenValues.argsort()[::-1]\n",
    "    eigenValues = eigenValues[idx]\n",
    "    eigenVectors = eigenVectors[:, idx]\n",
    "    total = np.sum(eigenValues)\n",
    "\n",
    "    while isAlpha == False:\n",
    "        sum_eigVal = 0.0\n",
    "        for i in range(eigenValues.size):\n",
    "            sum_eigVal = sum_eigVal + eigenValues[i] / total\n",
    "            number += 1\n",
    "            if math.isclose(sum_eigVal, alpha) or sum_eigVal > alpha:\n",
    "                isAlpha = True\n",
    "                break\n",
    "\n",
    "    projection_matrix = np.matrix([eigenVectors[n] for n in\n",
    "                                  range(number)]).T\n",
    "\n",
    "    if not Path(str + '.pickle').exists():\n",
    "        with open(str + '.pickle', 'wb') as handle:\n",
    "            pickle.dump(projection_matrix, handle,\n",
    "                        protocol=pickle.HIGHEST_PROTOCOL)\n",
    "    else:\n",
    "        print ('Error.' + ' Another file with same name already found.')\n",
    "    return projection_matrix\n"
   ]
  },
  {
   "cell_type": "code",
   "execution_count": 11,
   "metadata": {},
   "outputs": [],
   "source": [
    "# =============================================================================\n",
    "# PCA ROUTINE\n",
    "# =============================================================================\n",
    "\n",
    "def PCA_(\n",
    "    data_matrix,\n",
    "    proj_matrix,\n",
    "    alpha,\n",
    "    str,\n",
    "    ):\n",
    "\n",
    "    data_matrix_centered = data_matrix - np.mean(data_matrix, axis=0)\n",
    "    if proj_matrix is None:\n",
    "        projection_matrix = getProj(data_matrix, alpha, str)\n",
    "    else:\n",
    "        projection_matrix = proj_matrix\n",
    "\n",
    "    rd_data_matrix = np.matmul(data_matrix_centered, projection_matrix)\n",
    "    return rd_data_matrix\n",
    "\n"
   ]
  },
  {
   "cell_type": "markdown",
   "metadata": {},
   "source": [
    "### 2-Generating the Data Matrix and the Label vector"
   ]
  },
  {
   "cell_type": "code",
   "execution_count": 12,
   "metadata": {},
   "outputs": [],
   "source": [
    "\n",
    "# =============================================================================\n",
    "# INITIAL SETUP\n",
    "# =============================================================================\n",
    "\n",
    "imgMat = np.zeros((0, 10304))\n",
    "temp = np.arange(1, 41, 1)\n",
    "label_matrix = np.array([[temp[i]] * 10 for i in range(temp.size)])\n",
    "label_matrix = label_matrix.flatten()\n",
    "#put folder name containing ORL dataset\n",
    "#note that this is for linux directory system for windows use those lines with changes\n",
    "#folder=\"C:\\\\FaceReco\\\\orl_faces\\\\\"\n",
    "# direction=folder+\"s\"+str(j)+\"\\\\\"\n",
    "folder = 'orl_faces/'\n",
    "for j in range(1, 41):\n",
    "    direction = folder + 's' + str(j) + '/'\n",
    "    for i in range(1, 11):\n",
    "        directory = direction + str(i) + '.pgm'\n",
    "        image = img.imread(directory).T\n",
    "        imageVect = np.asmatrix(image.flatten())\n",
    "        imgMat = np.concatenate((imgMat, imageVect))\n",
    "\n",
    "\n"
   ]
  },
  {
   "cell_type": "markdown",
   "metadata": {},
   "source": [
    "### 3. Spliting the Dataset into Training and Test sets "
   ]
  },
  {
   "cell_type": "code",
   "execution_count": 26,
   "metadata": {},
   "outputs": [],
   "source": [
    "test_data_matrix = imgMat[0:400:2]\n",
    "training_data_matrix = imgMat[1:400:2]\n",
    "\n",
    "label_test = label_matrix[0:400:2]\n",
    "label_training = label_matrix[1:400:2]"
   ]
  },
  {
   "cell_type": "markdown",
   "metadata": {},
   "source": [
    "### 4. Classification using PCA"
   ]
  },
  {
   "cell_type": "code",
   "execution_count": 14,
   "metadata": {},
   "outputs": [
    {
     "name": "stdout",
     "output_type": "stream",
     "text": [
      "For alpha: 0.8 accuracy percentage= 93.0%\n",
      "\n",
      "For alpha: 0.85 accuracy percentage= 95.5%\n",
      "\n",
      "For alpha: 0.9 accuracy percentage= 97.0%\n",
      "\n",
      "For alpha: 0.95 accuracy percentage= 97.5%\n",
      "\n"
     ]
    }
   ],
   "source": [
    "# =============================================================================\n",
    "# COMPUTING ACCURACY FOR EACH ALPHA\n",
    "# =============================================================================\n",
    "\n",
    "# proj_data_mat=getProj(training_data_matrix,0.95,\"proj_data_mat_0.95\")\n",
    "\n",
    "alpha = np.matrix([[0.8, 0.85, 0.9, 0.95]])\n",
    "\n",
    "for k in range(alpha.size):\n",
    "    with open('proj_data_mat_' + str(alpha[0, k]) + '.pickle', 'rb') as \\\n",
    "        handle:\n",
    "        proj_data_mat = pickle.load(handle)\n",
    "    training_data_matrix_rd = PCA_(training_data_matrix, proj_data_mat,\n",
    "                                   alpha[0, k], '')\n",
    "    test_data_matrix_rd = PCA_(test_data_matrix, proj_data_mat,\n",
    "                               alpha[0, k], '')\n",
    "    acc_prc = classify(training_data_matrix_rd, test_data_matrix_rd,\n",
    "                       label_training, label_test)\n",
    "    print ('For alpha: ' + str(alpha[0, k]) + ' accuracy percentage= ' \\\n",
    "        + str(acc_prc) + '%\\n')"
   ]
  },
  {
   "cell_type": "markdown",
   "metadata": {},
   "source": [
    "##  5-Classification using LDA"
   ]
  },
  {
   "cell_type": "markdown",
   "metadata": {},
   "source": [
    "a- \n",
    "i.Calculate the mean vector for every class Mu1,Mu2,..., Mu40"
   ]
  },
  {
   "cell_type": "code",
   "execution_count": 15,
   "metadata": {},
   "outputs": [],
   "source": [
    "#number of images in total\n",
    "rows=400\n",
    "#differenct people\n",
    "number_of_classes=40\n",
    "nImages_in_each_class=10\n",
    "#dimentions of vector (image) before reduction\n",
    "dimentions=10304\n",
    "D=imgMat\n",
    "\n",
    "#making an array to save means of each class (40,10304)\n",
    "classes_means=np.zeros((number_of_classes,dimentions))\n",
    "\n",
    "for i in range(number_of_classes):\n",
    "    #adding evens because index of arrays start at zero not 1\n",
    "    classes_means[i]=np.mean(test_data_matrix[i*5:i*5+5],axis=0)"
   ]
  },
  {
   "cell_type": "markdown",
   "metadata": {},
   "source": [
    "ii. Replace B matrix by Sb"
   ]
  },
  {
   "cell_type": "code",
   "execution_count": 16,
   "metadata": {},
   "outputs": [],
   "source": [
    "#finding Sb (replacement to B for higher no of classes) in LDA\n",
    "#nk is number of samples in kth class\n",
    "nk=nImages_in_each_class // 2 \n",
    "#overall sample mean\n",
    "#get mean of each column and result is 1 row and 10304(dimentions) columns\n",
    "meu=np.mean(D,axis=0)\n",
    "#initializing Sb\n",
    "Sb=np.zeros((dimentions,dimentions))\n",
    "\n",
    "for k in range(number_of_classes):\n",
    "    diff_means=classes_means[k]-meu\n",
    "    diff_means=np.reshape(diff_means,(1,10304) )\n",
    "    dm_t=diff_means.transpose()\n",
    "    B=np.matmul(dm_t,diff_means)\n",
    "    Sb+=nk*B\n",
    "#print(Sb.shape) #(10304, 10304)\n"
   ]
  },
  {
   "cell_type": "markdown",
   "metadata": {},
   "source": [
    "iii. center class matrices Zi i=0,1,2...39"
   ]
  },
  {
   "cell_type": "code",
   "execution_count": 68,
   "metadata": {},
   "outputs": [],
   "source": [
    "\"\"\"center class matrices Zi i=0,1,2...39 : \"\"\"\n",
    "Z=D\n",
    "for i in range(number_of_classes):\n",
    "    for j in range (nImages_in_each_class):\n",
    "        if(j % 2 == 0):\n",
    "            Z[i*10+j]-=classes_means[i][:]\n",
    "#print(\"shape of Z:\",Z.shape) #(400, 10304)"
   ]
  },
  {
   "cell_type": "markdown",
   "metadata": {},
   "source": [
    "S within class scatter matrix"
   ]
  },
  {
   "cell_type": "code",
   "execution_count": null,
   "metadata": {},
   "outputs": [],
   "source": [
    "\"\"\"within class scatter matrix S :\"\"\"\n",
    "S=np.zeros((dimentions,dimentions))\n",
    "S_initial=np.zeros((nImages_in_each_class // 2,dimentions))\n",
    "for i in range (number_of_classes):\n",
    "    for j in range (nImages_in_each_class // 1):\n",
    "        if (j % 2== 0):    \n",
    "            S_i=S_initial\n",
    "            S_i[j // 2]+=Z[i*10+j]\n",
    "    S_i=np.dot(S_i.T,S_i)\n",
    "    S+=S_i"
   ]
  },
  {
   "cell_type": "markdown",
   "metadata": {},
   "source": [
    "S inverse"
   ]
  },
  {
   "cell_type": "code",
   "execution_count": null,
   "metadata": {},
   "outputs": [],
   "source": [
    "#S_inv=np.linalg.inv(S)\n",
    "#S_inv= np.linalg.solve(S, np.identity(10304))\n",
    "S_inv= np.linalg.pinv(S)"
   ]
  },
  {
   "cell_type": "markdown",
   "metadata": {},
   "source": [
    "iv. getting eigenvectors and eigenvalues and using 39 dominant eigenvectors instead of one"
   ]
  },
  {
   "cell_type": "code",
   "execution_count": null,
   "metadata": {},
   "outputs": [],
   "source": [
    "#Eigen vectors and values:\n",
    "S_inv_mul_B=np.matmul(S_inv,Sb)\n",
    "#commenting those because of high processing\n",
    "\n",
    "eigenvals,eigenvecs = np.linalg.eig(S_inv_mul_B)\n",
    "#sorting eigen values in descending order\n",
    "sort_idx = np.argsort(eigenvals)[::-1]\n",
    "eigenvals = eigenvals[sort_idx]\n",
    "eigenvecs = eigenvecs[:,sort_idx]\n",
    "\n",
    "#lamb=np.zeros(39)\n",
    "u=eigenvecs[:,:39]\n",
    "lamp=eigenvals[:39]"
   ]
  },
  {
   "cell_type": "markdown",
   "metadata": {},
   "source": [
    "### b. Projecting the training set and test sets separately using same projection matrix U."
   ]
  },
  {
   "cell_type": "code",
   "execution_count": null,
   "metadata": {},
   "outputs": [],
   "source": [
    "#some error here\n",
    "p_train=training_data_matrix.dot(u)  \n",
    "p_test=test_data_matrix.dot(u)"
   ]
  },
  {
   "cell_type": "code",
   "execution_count": null,
   "metadata": {},
   "outputs": [],
   "source": []
  },
  {
   "cell_type": "code",
   "execution_count": null,
   "metadata": {},
   "outputs": [],
   "source": [
    "def getAccuracy(predictedClasses, label_vector): # check predicted classes for correctness\n",
    "\tcorrect = 0\n",
    "\tfor x in range(len(predictedClasses)):\n",
    "\t\tif predictedClasses[x] is label_vector[x]:\n",
    "\t\t\tcorrect += 1\n",
    "\treturn (correct/float(len(predictedClasses))) * 100.0"
   ]
  },
  {
   "cell_type": "code",
   "execution_count": null,
   "metadata": {},
   "outputs": [],
   "source": [
    "def Knn(trainingSet,label_vector,test,k):\n",
    "    distances =[]\n",
    "    for x in range(len(trainingSet)): #calculating distance between test instance and all training data \n",
    "        distance = np.linalg.norm(np.subtract(test,trainingSet[x]))\n",
    "        distances.append((label_vector[x],distance)) #storung the distance with the class of the training instance \n",
    "    distances.sort(key=operator.itemgetter(1)) #sorting distances array by the distance\n",
    "    neighbors = []\n",
    "    for x in range(k):\n",
    "        neighbors.append(distances[x]) #get the K neighbors of the instance\n",
    "    classes ={}\n",
    "    for x in range(len(neighbors)): #check classes for the neighbors\n",
    "        response= neighbors[x][0] \n",
    "        if response in classes:\n",
    "            classes[response] += 1 #classVote found! increase voting by 1\n",
    "        else:\n",
    "            classes[response] = 1 #new classVote! add it to the dict\n",
    "    sortedVotes = sorted(classes.items(), key=operator.itemgetter(1), reverse=True)#sort the class votes in decreasing order\n",
    "    return sortedVotes[0][0] #return the most voted class number"
   ]
  },
  {
   "cell_type": "code",
   "execution_count": null,
   "metadata": {},
   "outputs": [],
   "source": [
    "count=1\n",
    "labelVector =[]\n",
    "for x in range(40): #constructing the classes of each instance\n",
    "    for j in range(5):\n",
    "        labelVector.append(count)\n",
    "    count= count+1\n",
    "k=[1,3,5,7]\n",
    "accuracy=[]\n",
    "for i in range(4):\n",
    "    list_of_predictions=[] \n",
    "    for x in range(200):    #test all the test_data_matrix\n",
    "        list_of_predictions.append(Knn(training_data_matrix,labelVector,test_data_matrix[x],k[i]))\n",
    "    accuracy.append(getAccuracy(list_of_predictions,labelVector))\n",
    "    print(accuracy[i],\"%\")\n",
    "plt.plot(k,accuracy)\n",
    "plt.ylabel(\"accuracy LDA in %\")\n",
    "plt.xlabel(\"K\")\n",
    "plt.show"
   ]
  },
  {
   "cell_type": "code",
   "execution_count": null,
   "metadata": {},
   "outputs": [],
   "source": []
  },
  {
   "cell_type": "markdown",
   "metadata": {},
   "source": [
    "## 6-Classifier Tuning"
   ]
  },
  {
   "cell_type": "markdown",
   "metadata": {},
   "source": [
    "#### a. Set the number of neighbors in the K-NN classifier to 1,3,5,7.\n",
    "#### b. Tie breaking.\n",
    "#### c. Ploting the performance measure (accuracy) against the K value.\n",
    "#### This is done for PCA and LDA as well."
   ]
  },
  {
   "cell_type": "code",
   "execution_count": 27,
   "metadata": {},
   "outputs": [
    {
     "name": "stdout",
     "output_type": "stream",
     "text": [
      "0.0 %\n",
      "0.0 %\n",
      "0.0 %\n",
      "0.0 %\n"
     ]
    },
    {
     "data": {
      "text/plain": [
       "<function matplotlib.pyplot.show>"
      ]
     },
     "execution_count": 27,
     "metadata": {},
     "output_type": "execute_result"
    },
    {
     "data": {
      "image/png": "[encoded data removed]",
      "text/plain": [
       "<matplotlib.figure.Figure at 0x7fa26bbfe0b8>"
      ]
     },
     "metadata": {},
     "output_type": "display_data"
    }
   ],
   "source": [
    "\n",
    "count=1\n",
    "labelVector =[]\n",
    "for x in range(40): #constructing the classes of each instance\n",
    "    for j in range(5):\n",
    "        labelVector.append(count)\n",
    "    count= count+1\n",
    "\n",
    "def getAccuracy(predictedClasses, label_vector): # check predicted classes for correctness\n",
    "\tcorrect = 0\n",
    "\tfor x in range(len(predictedClasses)):\n",
    "\t\tif predictedClasses[x] is label_vector[x]:\n",
    "\t\t\tcorrect += 1\n",
    "\treturn (correct/float(len(predictedClasses))) * 100.0\n",
    "\n",
    "def Knn(trainingSet,label_vector,test,k):\n",
    "    distances =[]\n",
    "    for x in range(len(trainingSet)): #calculating distance between test instance and all training data \n",
    "        distance = np.linalg.norm(np.subtract(test,trainingSet[x]))\n",
    "        distances.append((label_vector[x],distance)) #storung the distance with the class of the training instance \n",
    "    distances.sort(key=operator.itemgetter(1)) #sorting distances array by the distance\n",
    "    neighbors = []\n",
    "    for x in range(k):\n",
    "        neighbors.append(distances[x]) #get the K neighbors of the instance\n",
    "    classes ={}\n",
    "    for x in range(len(neighbors)): #check classes for the neighbors\n",
    "        response= neighbors[x][0] \n",
    "        if response in classes:\n",
    "            classes[response] += 1 #classVote found! increase voting by 1\n",
    "        else:\n",
    "            classes[response] = 1 #new classVote! add it to the dict\n",
    "    sortedVotes = sorted(classes.items(), key=operator.itemgetter(1), reverse=True)#sort the class votes in decreasing order\n",
    "    return sortedVotes[0][0] #return the most voted class number\n",
    "#list for getting the predictions for all test instances\n",
    "#for x in range(200):    #test all the test_data_matrix\n",
    "#    list_of_predictions.append(Knn(faceRecognition.training_data_matrix,labelVector,faceRecognition.test_data_matrix[x],3))\n",
    "#print(getAccuracy(list_of_predictions,labelVector),\"%\")\n",
    "k=[1,3,5,7]\n",
    "accuracy=[]\n",
    "for i in range(4):\n",
    "    list_of_predictions=[] \n",
    "    for x in range(200):    #test all the test_data_matrix\n",
    "        list_of_predictions.append(Knn(training_data_matrix,label_test,test_data_matrix[x],k[i]))\n",
    "    accuracy.append(getAccuracy(list_of_predictions,label_test))\n",
    "    print(accuracy[i],\"%\")\n",
    "plt.plot(k,accuracy)\n",
    "plt.ylabel(\"accuracy in %\")\n",
    "plt.xlabel(\"K\")\n",
    "plt.show"
   ]
  },
  {
   "cell_type": "code",
   "execution_count": 32,
   "metadata": {},
   "outputs": [
    {
     "name": "stdout",
     "output_type": "stream",
     "text": [
      "(200,)\n",
      "0.0 %\n",
      "0.0 %\n",
      "0.0 %\n",
      "0.0 %\n"
     ]
    },
    {
     "data": {
      "text/plain": [
       "<function matplotlib.pyplot.show>"
      ]
     },
     "execution_count": 32,
     "metadata": {},
     "output_type": "execute_result"
    },
    {
     "data": {
      "image/png": "[encoded data removed]",
      "text/plain": [
       "<matplotlib.figure.Figure at 0x7fa26b92c668>"
      ]
     },
     "metadata": {},
     "output_type": "display_data"
    }
   ],
   "source": [
    "\n",
    "count=1\n",
    "labelVector =[]\n",
    "for x in range(40): #constructing the classes of each instance\n",
    "    for j in range(5):\n",
    "        labelVector.append(count)\n",
    "    count= count+1\n",
    "\n",
    "def getAccuracy(predictedClasses, label_vector): # check predicted classes for correctness\n",
    "\tcorrect = 0\n",
    "\tfor x in range(len(predictedClasses)):\n",
    "\t\tif predictedClasses[x] is label_vector[x]:\n",
    "\t\t\tcorrect += 1\n",
    "\treturn (correct/float(len(predictedClasses))) * 100.0\n",
    "def Knn(trainingSet,label_vector,test,k):\n",
    "    distances =[]\n",
    "    for x in range(len(trainingSet)): #calculating distance between test instance and all training data \n",
    "        distance = np.linalg.norm(np.subtract(test,trainingSet[x]))\n",
    "        distances.append((label_vector[x],distance)) #storung the distance with the class of the training instance \n",
    "    distances.sort(key=operator.itemgetter(1)) #sorting distances array by the distance\n",
    "    neighbors = []\n",
    "    for x in range(k):\n",
    "        neighbors.append(distances[x]) #get the K neighbors of the instance\n",
    "    classes ={}\n",
    "    for x in range(len(neighbors)): #check classes for the neighbors\n",
    "        response= neighbors[x][0] \n",
    "        if response in classes:\n",
    "            classes[response] += 1 #classVote found! increase voting by 1\n",
    "        else:\n",
    "            classes[response] = 1 #new classVote! add it to the dict\n",
    "    sortedVotes = sorted(classes.items(), key=operator.itemgetter(1), reverse=True)#sort the class votes in decreasing order\n",
    "    return sortedVotes[0][0] #return the most voted class number\n",
    "#list for getting the predictions for all test instances\n",
    "#for x in range(200):    #test all the test_data_matrix\n",
    "#    list_of_predictions.append(Knn(faceRecognition.training_data_matrix,labelVector,faceRecognition.test_data_matrix[x],3))\n",
    "#print(getAccuracy(list_of_predictions,labelVector),\"%\")\n",
    "k=[1,3,5,7]\n",
    "accuracy=[]\n",
    "print(label_training.shape)\n",
    "for i in range(4):\n",
    "    list_of_predictions=[] \n",
    "    for x in range(200):    #test all the test_data_matrix\n",
    "        list_of_predictions.append(Knn(training_data_matrix,label_training,test_data_matrix[x],k[i]))\n",
    "    accuracy.append(getAccuracy(list_of_predictions,label_test))\n",
    "    print(accuracy[i],\"%\")\n",
    "plt.plot(k,accuracy)\n",
    "plt.ylabel(\"accuracy in %\")\n",
    "plt.xlabel(\"K\")\n",
    "plt.show"
   ]
  },
  {
   "cell_type": "code",
   "execution_count": null,
   "metadata": {},
   "outputs": [],
   "source": []
  },
  {
   "cell_type": "code",
   "execution_count": null,
   "metadata": {},
   "outputs": [],
   "source": []
  }
 ],
 "metadata": {
  "kernelspec": {
   "display_name": "Python 3",
   "language": "python",
   "name": "python3"
  },
  "language_info": {
   "codemirror_mode": {
    "name": "ipython",
    "version": 3
   },
   "file_extension": ".py",
   "mimetype": "text/x-python",
   "name": "python",
   "nbconvert_exporter": "python",
   "pygments_lexer": "ipython3",
   "version": "3.6.4"
  }
 },
 "nbformat": 4,
 "nbformat_minor": 2
}
